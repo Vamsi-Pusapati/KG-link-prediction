{
 "cells": [
  {
   "cell_type": "code",
   "execution_count": 1,
   "id": "5d0fea77",
   "metadata": {},
   "outputs": [
    {
     "name": "stdout",
     "output_type": "stream",
     "text": [
      "Collecting openai\n",
      "  Obtaining dependency information for openai from https://files.pythonhosted.org/packages/f9/6d/3c91362e0f4ad9d3c957ccacafb2172500e99c846d3b448964c8341df8eb/openai-1.20.0-py3-none-any.whl.metadata\n",
      "  Using cached openai-1.20.0-py3-none-any.whl.metadata (21 kB)\n",
      "Requirement already satisfied: anyio<5,>=3.5.0 in /Users/vamsipusapati/anaconda3/lib/python3.11/site-packages (from openai) (3.5.0)\n",
      "Requirement already satisfied: distro<2,>=1.7.0 in /Users/vamsipusapati/anaconda3/lib/python3.11/site-packages (from openai) (1.9.0)\n",
      "Requirement already satisfied: httpx<1,>=0.23.0 in /Users/vamsipusapati/anaconda3/lib/python3.11/site-packages (from openai) (0.27.0)\n",
      "Requirement already satisfied: pydantic<3,>=1.9.0 in /Users/vamsipusapati/anaconda3/lib/python3.11/site-packages (from openai) (2.7.0)\n",
      "Requirement already satisfied: sniffio in /Users/vamsipusapati/anaconda3/lib/python3.11/site-packages (from openai) (1.2.0)\n",
      "Requirement already satisfied: tqdm>4 in /Users/vamsipusapati/anaconda3/lib/python3.11/site-packages (from openai) (4.65.0)\n",
      "Requirement already satisfied: typing-extensions<5,>=4.7 in /Users/vamsipusapati/anaconda3/lib/python3.11/site-packages (from openai) (4.7.1)\n",
      "Requirement already satisfied: idna>=2.8 in /Users/vamsipusapati/anaconda3/lib/python3.11/site-packages (from anyio<5,>=3.5.0->openai) (3.4)\n",
      "Requirement already satisfied: certifi in /Users/vamsipusapati/anaconda3/lib/python3.11/site-packages (from httpx<1,>=0.23.0->openai) (2023.7.22)\n",
      "Requirement already satisfied: httpcore==1.* in /Users/vamsipusapati/anaconda3/lib/python3.11/site-packages (from httpx<1,>=0.23.0->openai) (1.0.5)\n",
      "Requirement already satisfied: h11<0.15,>=0.13 in /Users/vamsipusapati/anaconda3/lib/python3.11/site-packages (from httpcore==1.*->httpx<1,>=0.23.0->openai) (0.14.0)\n",
      "Requirement already satisfied: annotated-types>=0.4.0 in /Users/vamsipusapati/anaconda3/lib/python3.11/site-packages (from pydantic<3,>=1.9.0->openai) (0.6.0)\n",
      "Requirement already satisfied: pydantic-core==2.18.1 in /Users/vamsipusapati/anaconda3/lib/python3.11/site-packages (from pydantic<3,>=1.9.0->openai) (2.18.1)\n",
      "Using cached openai-1.20.0-py3-none-any.whl (292 kB)\n",
      "Installing collected packages: openai\n",
      "Successfully installed openai-1.20.0\n"
     ]
    }
   ],
   "source": [
    "#!pip install openai\n"
   ]
  },
  {
   "cell_type": "code",
   "execution_count": null,
   "id": "fa9e9743",
   "metadata": {},
   "outputs": [],
   "source": [
    "import pandas as pd\n",
    "\n",
    "df = pd.read_csv(\"./node_texts.csv\")\n",
    "\n"
   ]
  },
  {
   "cell_type": "code",
   "execution_count": 1,
   "id": "fae62f13",
   "metadata": {},
   "outputs": [],
   "source": [
    "from openai import OpenAI"
   ]
  },
  {
   "cell_type": "code",
   "execution_count": 5,
   "id": "2a189f6e",
   "metadata": {},
   "outputs": [
    {
     "name": "stdout",
     "output_type": "stream",
     "text": [
      "Collecting openai\n",
      "  Obtaining dependency information for openai from https://files.pythonhosted.org/packages/f9/6d/3c91362e0f4ad9d3c957ccacafb2172500e99c846d3b448964c8341df8eb/openai-1.20.0-py3-none-any.whl.metadata\n",
      "  Downloading openai-1.20.0-py3-none-any.whl.metadata (21 kB)\n",
      "Collecting genai\n",
      "  Obtaining dependency information for genai from https://files.pythonhosted.org/packages/de/c7/2a79b24610e15ecc6d7c421cb7a6701decc0402011099b08659a3a76196a/genai-2.1.0-py3-none-any.whl.metadata\n",
      "  Downloading genai-2.1.0-py3-none-any.whl.metadata (6.5 kB)\n",
      "Requirement already satisfied: anyio<5,>=3.5.0 in /Users/vamsipusapati/anaconda3/lib/python3.11/site-packages (from openai) (3.5.0)\n",
      "Collecting distro<2,>=1.7.0 (from openai)\n",
      "  Obtaining dependency information for distro<2,>=1.7.0 from https://files.pythonhosted.org/packages/12/b3/231ffd4ab1fc9d679809f356cebee130ac7daa00d6d6f3206dd4fd137e9e/distro-1.9.0-py3-none-any.whl.metadata\n",
      "  Downloading distro-1.9.0-py3-none-any.whl.metadata (6.8 kB)\n",
      "Collecting httpx<1,>=0.23.0 (from openai)\n",
      "  Obtaining dependency information for httpx<1,>=0.23.0 from https://files.pythonhosted.org/packages/41/7b/ddacf6dcebb42466abd03f368782142baa82e08fc0c1f8eaa05b4bae87d5/httpx-0.27.0-py3-none-any.whl.metadata\n",
      "  Downloading httpx-0.27.0-py3-none-any.whl.metadata (7.2 kB)\n",
      "Requirement already satisfied: pydantic<3,>=1.9.0 in /Users/vamsipusapati/anaconda3/lib/python3.11/site-packages (from openai) (2.7.0)\n",
      "Requirement already satisfied: sniffio in /Users/vamsipusapati/anaconda3/lib/python3.11/site-packages (from openai) (1.2.0)\n",
      "Requirement already satisfied: tqdm>4 in /Users/vamsipusapati/anaconda3/lib/python3.11/site-packages (from openai) (4.65.0)\n",
      "Requirement already satisfied: typing-extensions<5,>=4.7 in /Users/vamsipusapati/anaconda3/lib/python3.11/site-packages (from openai) (4.7.1)\n",
      "Requirement already satisfied: ipython<9.0.0,>=8.10.0 in /Users/vamsipusapati/anaconda3/lib/python3.11/site-packages (from genai) (8.12.0)\n",
      "Collecting openai\n",
      "  Obtaining dependency information for openai from https://files.pythonhosted.org/packages/f1/1f/3a0cb7d172f451b2ca8bf65d9196aa3b6878c010d461257c621e4bd48cad/openai-0.27.10-py3-none-any.whl.metadata\n",
      "  Downloading openai-0.27.10-py3-none-any.whl.metadata (13 kB)\n",
      "Collecting tabulate<0.10.0,>=0.9.0 (from genai)\n",
      "  Obtaining dependency information for tabulate<0.10.0,>=0.9.0 from https://files.pythonhosted.org/packages/40/44/4a5f08c96eb108af5cb50b41f76142f0afa346dfa99d5296fe7202a11854/tabulate-0.9.0-py3-none-any.whl.metadata\n",
      "  Downloading tabulate-0.9.0-py3-none-any.whl.metadata (34 kB)\n",
      "Collecting tiktoken<0.4.0,>=0.3.2 (from genai)\n",
      "  Obtaining dependency information for tiktoken<0.4.0,>=0.3.2 from https://files.pythonhosted.org/packages/d6/a1/e7b2bd5a447c9de9b4a842af0f13872ee844f584832542c6eceb53bf7c8c/tiktoken-0.3.3-cp311-cp311-macosx_11_0_arm64.whl.metadata\n",
      "  Downloading tiktoken-0.3.3-cp311-cp311-macosx_11_0_arm64.whl.metadata (5.2 kB)\n",
      "Requirement already satisfied: requests>=2.20 in /Users/vamsipusapati/anaconda3/lib/python3.11/site-packages (from openai) (2.31.0)\n",
      "Requirement already satisfied: aiohttp in /Users/vamsipusapati/anaconda3/lib/python3.11/site-packages (from openai) (3.9.3)\n",
      "Requirement already satisfied: backcall in /Users/vamsipusapati/anaconda3/lib/python3.11/site-packages (from ipython<9.0.0,>=8.10.0->genai) (0.2.0)\n",
      "Requirement already satisfied: decorator in /Users/vamsipusapati/anaconda3/lib/python3.11/site-packages (from ipython<9.0.0,>=8.10.0->genai) (5.1.1)\n",
      "Requirement already satisfied: jedi>=0.16 in /Users/vamsipusapati/anaconda3/lib/python3.11/site-packages (from ipython<9.0.0,>=8.10.0->genai) (0.18.1)\n",
      "Requirement already satisfied: matplotlib-inline in /Users/vamsipusapati/anaconda3/lib/python3.11/site-packages (from ipython<9.0.0,>=8.10.0->genai) (0.1.6)\n",
      "Requirement already satisfied: pickleshare in /Users/vamsipusapati/anaconda3/lib/python3.11/site-packages (from ipython<9.0.0,>=8.10.0->genai) (0.7.5)\n",
      "Requirement already satisfied: prompt-toolkit!=3.0.37,<3.1.0,>=3.0.30 in /Users/vamsipusapati/anaconda3/lib/python3.11/site-packages (from ipython<9.0.0,>=8.10.0->genai) (3.0.36)\n",
      "Requirement already satisfied: pygments>=2.4.0 in /Users/vamsipusapati/anaconda3/lib/python3.11/site-packages (from ipython<9.0.0,>=8.10.0->genai) (2.15.1)\n",
      "Requirement already satisfied: stack-data in /Users/vamsipusapati/anaconda3/lib/python3.11/site-packages (from ipython<9.0.0,>=8.10.0->genai) (0.2.0)\n",
      "Requirement already satisfied: traitlets>=5 in /Users/vamsipusapati/anaconda3/lib/python3.11/site-packages (from ipython<9.0.0,>=8.10.0->genai) (5.7.1)\n",
      "Requirement already satisfied: pexpect>4.3 in /Users/vamsipusapati/anaconda3/lib/python3.11/site-packages (from ipython<9.0.0,>=8.10.0->genai) (4.8.0)\n",
      "Requirement already satisfied: appnope in /Users/vamsipusapati/anaconda3/lib/python3.11/site-packages (from ipython<9.0.0,>=8.10.0->genai) (0.1.2)\n",
      "Requirement already satisfied: charset-normalizer<4,>=2 in /Users/vamsipusapati/anaconda3/lib/python3.11/site-packages (from requests>=2.20->openai) (2.0.4)\n",
      "Requirement already satisfied: idna<4,>=2.5 in /Users/vamsipusapati/anaconda3/lib/python3.11/site-packages (from requests>=2.20->openai) (3.4)\n",
      "Requirement already satisfied: urllib3<3,>=1.21.1 in /Users/vamsipusapati/anaconda3/lib/python3.11/site-packages (from requests>=2.20->openai) (1.26.16)\n",
      "Requirement already satisfied: certifi>=2017.4.17 in /Users/vamsipusapati/anaconda3/lib/python3.11/site-packages (from requests>=2.20->openai) (2023.7.22)\n",
      "Requirement already satisfied: regex>=2022.1.18 in /Users/vamsipusapati/anaconda3/lib/python3.11/site-packages (from tiktoken<0.4.0,>=0.3.2->genai) (2022.7.9)\n",
      "Requirement already satisfied: aiosignal>=1.1.2 in /Users/vamsipusapati/anaconda3/lib/python3.11/site-packages (from aiohttp->openai) (1.2.0)\n",
      "Requirement already satisfied: attrs>=17.3.0 in /Users/vamsipusapati/anaconda3/lib/python3.11/site-packages (from aiohttp->openai) (22.1.0)\n",
      "Requirement already satisfied: frozenlist>=1.1.1 in /Users/vamsipusapati/anaconda3/lib/python3.11/site-packages (from aiohttp->openai) (1.3.3)\n",
      "Requirement already satisfied: multidict<7.0,>=4.5 in /Users/vamsipusapati/anaconda3/lib/python3.11/site-packages (from aiohttp->openai) (6.0.2)\n",
      "Requirement already satisfied: yarl<2.0,>=1.0 in /Users/vamsipusapati/anaconda3/lib/python3.11/site-packages (from aiohttp->openai) (1.8.1)\n",
      "Requirement already satisfied: parso<0.9.0,>=0.8.0 in /Users/vamsipusapati/anaconda3/lib/python3.11/site-packages (from jedi>=0.16->ipython<9.0.0,>=8.10.0->genai) (0.8.3)\n",
      "Requirement already satisfied: ptyprocess>=0.5 in /Users/vamsipusapati/anaconda3/lib/python3.11/site-packages (from pexpect>4.3->ipython<9.0.0,>=8.10.0->genai) (0.7.0)\n",
      "Requirement already satisfied: wcwidth in /Users/vamsipusapati/anaconda3/lib/python3.11/site-packages (from prompt-toolkit!=3.0.37,<3.1.0,>=3.0.30->ipython<9.0.0,>=8.10.0->genai) (0.2.5)\n",
      "Requirement already satisfied: executing in /Users/vamsipusapati/anaconda3/lib/python3.11/site-packages (from stack-data->ipython<9.0.0,>=8.10.0->genai) (0.8.3)\n",
      "Requirement already satisfied: asttokens in /Users/vamsipusapati/anaconda3/lib/python3.11/site-packages (from stack-data->ipython<9.0.0,>=8.10.0->genai) (2.0.5)\n",
      "Requirement already satisfied: pure-eval in /Users/vamsipusapati/anaconda3/lib/python3.11/site-packages (from stack-data->ipython<9.0.0,>=8.10.0->genai) (0.2.2)\n",
      "Requirement already satisfied: six in /Users/vamsipusapati/anaconda3/lib/python3.11/site-packages (from asttokens->stack-data->ipython<9.0.0,>=8.10.0->genai) (1.16.0)\n",
      "Collecting httpcore==1.* (from httpx<1,>=0.23.0->openai)\n",
      "  Obtaining dependency information for httpcore==1.* from https://files.pythonhosted.org/packages/78/d4/e5d7e4f2174f8a4d63c8897d79eb8fe2503f7ecc03282fee1fa2719c2704/httpcore-1.0.5-py3-none-any.whl.metadata\n",
      "  Downloading httpcore-1.0.5-py3-none-any.whl.metadata (20 kB)\n",
      "Requirement already satisfied: h11<0.15,>=0.13 in /Users/vamsipusapati/anaconda3/lib/python3.11/site-packages (from httpcore==1.*->httpx<1,>=0.23.0->openai) (0.14.0)\n",
      "Requirement already satisfied: annotated-types>=0.4.0 in /Users/vamsipusapati/anaconda3/lib/python3.11/site-packages (from pydantic<3,>=1.9.0->openai) (0.6.0)\n",
      "Requirement already satisfied: pydantic-core==2.18.1 in /Users/vamsipusapati/anaconda3/lib/python3.11/site-packages (from pydantic<3,>=1.9.0->openai) (2.18.1)\n"
     ]
    },
    {
     "name": "stdout",
     "output_type": "stream",
     "text": [
      "Downloading genai-2.1.0-py3-none-any.whl (16 kB)\n",
      "Downloading openai-0.27.10-py3-none-any.whl (76 kB)\n",
      "\u001b[2K   \u001b[90m━━━━━━━━━━━━━━━━━━━━━━━━━━━━━━━━━━━━━━━━\u001b[0m \u001b[32m76.5/76.5 kB\u001b[0m \u001b[31m1.5 MB/s\u001b[0m eta \u001b[36m0:00:00\u001b[0ma \u001b[36m0:00:01\u001b[0m\n",
      "\u001b[?25hDownloading tabulate-0.9.0-py3-none-any.whl (35 kB)\n",
      "Downloading tiktoken-0.3.3-cp311-cp311-macosx_11_0_arm64.whl (706 kB)\n",
      "\u001b[2K   \u001b[90m━━━━━━━━━━━━━━━━━━━━━━━━━━━━━━━━━━━━━━━━\u001b[0m \u001b[32m706.4/706.4 kB\u001b[0m \u001b[31m6.8 MB/s\u001b[0m eta \u001b[36m0:00:00\u001b[0ma \u001b[36m0:00:01\u001b[0m\n",
      "\u001b[?25hInstalling collected packages: tabulate, tiktoken, openai, genai\n",
      "  Attempting uninstall: tabulate\n",
      "    Found existing installation: tabulate 0.8.10\n",
      "    Uninstalling tabulate-0.8.10:\n",
      "      Successfully uninstalled tabulate-0.8.10\n",
      "Successfully installed genai-2.1.0 openai-0.27.10 tabulate-0.9.0 tiktoken-0.3.3\n"
     ]
    }
   ],
   "source": []
  },
  {
   "cell_type": "code",
   "execution_count": null,
   "id": "c04707a2",
   "metadata": {},
   "outputs": [],
   "source": []
  }
 ],
 "metadata": {
  "kernelspec": {
   "display_name": "Python 3 (ipykernel)",
   "language": "python",
   "name": "python3"
  },
  "language_info": {
   "codemirror_mode": {
    "name": "ipython",
    "version": 3
   },
   "file_extension": ".py",
   "mimetype": "text/x-python",
   "name": "python",
   "nbconvert_exporter": "python",
   "pygments_lexer": "ipython3",
   "version": "3.11.4"
  }
 },
 "nbformat": 4,
 "nbformat_minor": 5
}
