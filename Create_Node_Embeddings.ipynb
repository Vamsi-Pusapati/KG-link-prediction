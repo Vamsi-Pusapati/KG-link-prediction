{
 "cells": [
  {
   "cell_type": "code",
   "execution_count": 1,
   "id": "972d7868",
   "metadata": {},
   "outputs": [
    {
     "name": "stdout",
     "output_type": "stream",
     "text": [
      "Collecting openai\n",
      "  Obtaining dependency information for openai from https://files.pythonhosted.org/packages/f9/6d/3c91362e0f4ad9d3c957ccacafb2172500e99c846d3b448964c8341df8eb/openai-1.20.0-py3-none-any.whl.metadata\n",
      "  Using cached openai-1.20.0-py3-none-any.whl.metadata (21 kB)\n",
      "Requirement already satisfied: anyio<5,>=3.5.0 in /Users/vamsipusapati/anaconda3/lib/python3.11/site-packages (from openai) (3.5.0)\n",
      "Requirement already satisfied: distro<2,>=1.7.0 in /Users/vamsipusapati/anaconda3/lib/python3.11/site-packages (from openai) (1.9.0)\n",
      "Requirement already satisfied: httpx<1,>=0.23.0 in /Users/vamsipusapati/anaconda3/lib/python3.11/site-packages (from openai) (0.27.0)\n",
      "Requirement already satisfied: pydantic<3,>=1.9.0 in /Users/vamsipusapati/anaconda3/lib/python3.11/site-packages (from openai) (2.7.0)\n",
      "Requirement already satisfied: sniffio in /Users/vamsipusapati/anaconda3/lib/python3.11/site-packages (from openai) (1.2.0)\n",
      "Requirement already satisfied: tqdm>4 in /Users/vamsipusapati/anaconda3/lib/python3.11/site-packages (from openai) (4.65.0)\n",
      "Requirement already satisfied: typing-extensions<5,>=4.7 in /Users/vamsipusapati/anaconda3/lib/python3.11/site-packages (from openai) (4.7.1)\n",
      "Requirement already satisfied: idna>=2.8 in /Users/vamsipusapati/anaconda3/lib/python3.11/site-packages (from anyio<5,>=3.5.0->openai) (3.4)\n",
      "Requirement already satisfied: certifi in /Users/vamsipusapati/anaconda3/lib/python3.11/site-packages (from httpx<1,>=0.23.0->openai) (2023.7.22)\n",
      "Requirement already satisfied: httpcore==1.* in /Users/vamsipusapati/anaconda3/lib/python3.11/site-packages (from httpx<1,>=0.23.0->openai) (1.0.5)\n",
      "Requirement already satisfied: h11<0.15,>=0.13 in /Users/vamsipusapati/anaconda3/lib/python3.11/site-packages (from httpcore==1.*->httpx<1,>=0.23.0->openai) (0.14.0)\n",
      "Requirement already satisfied: annotated-types>=0.4.0 in /Users/vamsipusapati/anaconda3/lib/python3.11/site-packages (from pydantic<3,>=1.9.0->openai) (0.6.0)\n",
      "Requirement already satisfied: pydantic-core==2.18.1 in /Users/vamsipusapati/anaconda3/lib/python3.11/site-packages (from pydantic<3,>=1.9.0->openai) (2.18.1)\n",
      "Using cached openai-1.20.0-py3-none-any.whl (292 kB)\n",
      "Installing collected packages: openai\n",
      "Successfully installed openai-1.20.0\n"
     ]
    }
   ],
   "source": [
    "#!pip install openai\n"
   ]
  },
  {
   "cell_type": "code",
   "execution_count": 64,
   "id": "a32cf36c",
   "metadata": {},
   "outputs": [],
   "source": [
    "import pandas as pd\n",
    "\n",
    "\n",
    "df = pd.read_csv(\"./node_texts.csv\")\n",
    "\n",
    "node_to_embed_dict_list = df.to_dict(\"records\")\n"
   ]
  },
  {
   "cell_type": "code",
   "execution_count": 69,
   "id": "d1a53872",
   "metadata": {},
   "outputs": [],
   "source": [
    "from openai import OpenAI\n",
    "client = OpenAI(api_key = \"<Open AI Key>\")\n",
    "emb_model=\"text-embedding-ada-002\"\n",
    "\n",
    "def get_embeddings_for_text(text,client =client ,emb_model = \"text-embedding-ada-002\"):\n",
    "    if(None != text and not pd.isna(text)):\n",
    "        response = client.embeddings.create(input =text, model=emb_model)\n",
    "        return response.data[0].embedding\n",
    "    else:\n",
    "        return None\n",
    "\n",
    "def set_embeddings_for_nodes(node_dict_list):\n",
    "    for node_dict in node_dict_list:\n",
    "        text = node_dict.get(\"text_to_embed\")\n",
    "        embeddings = get_embeddings_for_text(text, client, emb_model)\n",
    "        node_dict[\"embeddings\"] = embeddings\n",
    "    return node_dict_list\n",
    "\n",
    "def create_embeddings_csv(node_dict_list, out_file_name):\n",
    "    node_dict_with_emb_list = set_embeddings_for_nodes(node_dict_list)\n",
    "    df = pd.DataFrame(node_dict_with_emb_list)\n",
    "    file_location = \"./\" + out_file_name\n",
    "    df.to_csv(file_location,index=False)\n",
    "    print(\"Created Successfully!!\")\n"
   ]
  },
  {
   "cell_type": "code",
   "execution_count": 66,
   "id": "87dada4c",
   "metadata": {},
   "outputs": [
    {
     "name": "stdout",
     "output_type": "stream",
     "text": [
      "Created Successfully!!\n"
     ]
    }
   ],
   "source": [
    "#Run only once\n",
    "create_embeddings_csv(node_to_embed_dict_list, \"node_texts_with_embeddings.csv\")"
   ]
  },
  {
   "cell_type": "code",
   "execution_count": 70,
   "id": "6b85d420",
   "metadata": {},
   "outputs": [],
   "source": [
    "import pandas as pd\n",
    "\n",
    "\n",
    "df = pd.read_csv(\"./mitre_node_texts.csv\")\n",
    "\n",
    "mitre_node_to_embed_dict_list = df.to_dict(\"records\")"
   ]
  },
  {
   "cell_type": "code",
   "execution_count": 71,
   "id": "16974dd1",
   "metadata": {},
   "outputs": [
    {
     "name": "stdout",
     "output_type": "stream",
     "text": [
      "Created Successfully!!\n"
     ]
    }
   ],
   "source": [
    "create_embeddings_csv(mitre_node_to_embed_dict_list, \"mitre_node_texts_with_embeddings.csv\")"
   ]
  },
  {
   "cell_type": "code",
   "execution_count": null,
   "id": "33de0855",
   "metadata": {},
   "outputs": [],
   "source": []
  }
 ],
 "metadata": {
  "kernelspec": {
   "display_name": "Python 3 (ipykernel)",
   "language": "python",
   "name": "python3"
  },
  "language_info": {
   "codemirror_mode": {
    "name": "ipython",
    "version": 3
   },
   "file_extension": ".py",
   "mimetype": "text/x-python",
   "name": "python",
   "nbconvert_exporter": "python",
   "pygments_lexer": "ipython3",
   "version": "3.11.4"
  }
 },
 "nbformat": 4,
 "nbformat_minor": 5
}
